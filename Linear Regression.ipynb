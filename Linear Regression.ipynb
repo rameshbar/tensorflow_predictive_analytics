{
 "cells": [
  {
   "cell_type": "code",
   "execution_count": 1,
   "metadata": {},
   "outputs": [
    {
     "name": "stderr",
     "output_type": "stream",
     "text": [
      "C:\\Users\\JF\\Anaconda3\\lib\\site-packages\\h5py\\__init__.py:36: FutureWarning: Conversion of the second argument of issubdtype from `float` to `np.floating` is deprecated. In future, it will be treated as `np.float64 == np.dtype(float).type`.\n",
      "  from ._conv import register_converters as _register_converters\n"
     ]
    }
   ],
   "source": [
    "from __future__ import print_function\n",
    "\n",
    "import math\n",
    "\n",
    "from IPython import display\n",
    "from matplotlib import cm\n",
    "from matplotlib import gridspec\n",
    "from matplotlib import pyplot as plt\n",
    "import numpy as np\n",
    "import pandas as pd\n",
    "from sklearn import metrics\n",
    "from sklearn.utils import shuffle\n",
    "import tensorflow as tf\n",
    "from tensorflow.python.data import Dataset\n",
    "\n",
    "tf.logging.set_verbosity(tf.logging.ERROR)\n",
    "pd.options.display.max_rows = 10\n",
    "pd.options.display.float_format = '{:.1f}'.format"
   ]
  },
  {
   "cell_type": "code",
   "execution_count": 2,
   "metadata": {},
   "outputs": [],
   "source": [
    "#Importing the data\n",
    "housing_df = pd.read_csv(\"train_LR.csv\", sep=\",\")\n",
    "housing_df = shuffle(housing_df)"
   ]
  },
  {
   "cell_type": "code",
   "execution_count": 3,
   "metadata": {},
   "outputs": [],
   "source": [
    "#Processing the data\n",
    "processed_features = housing_df[[\"GrLivArea\"]]\n",
    "\n",
    "output_targets = housing_df[[\"SalePrice\"]]"
   ]
  },
  {
   "cell_type": "code",
   "execution_count": 4,
   "metadata": {},
   "outputs": [],
   "source": [
    "#Splitting the data into training, validation, and test sets\n",
    "training_examples = processed_features[0:1060]\n",
    "training_targets = output_targets[0:1060]\n",
    "\n",
    "val_examples = processed_features[1060:1260]\n",
    "val_targets = output_targets[1060:1260]\n",
    "\n",
    "test_examples = processed_features[1260:1460]\n",
    "test_targets = output_targets[1260:1460]"
   ]
  },
  {
   "cell_type": "code",
   "execution_count": 5,
   "metadata": {},
   "outputs": [],
   "source": [
    "# Configure a numeric feature column for GrLivArea.\n",
    "my_feature_columns = [tf.feature_column.numeric_column(\"GrLivArea\")]\n",
    "\n",
    "# Define the preferred optimizer: in this case lets use gradient descent\n",
    "my_optimizer = tf.train.GradientDescentOptimizer(learning_rate=0.1)\n",
    "my_optimizer = tf.contrib.estimator.clip_gradients_by_norm(my_optimizer, 5.0)\n",
    "\n",
    "# Configure the linear regression model with our feature columns and optimizer.\n",
    "model = tf.estimator.LinearRegressor(feature_columns=my_feature_columns,optimizer=my_optimizer)"
   ]
  },
  {
   "cell_type": "code",
   "execution_count": 6,
   "metadata": {},
   "outputs": [],
   "source": [
    "#Define the input function required for training\n",
    "def my_input_fn(features, targets, batch_size=1, shuffle=True, num_epochs=None):\n",
    "\n",
    "    # Convert pandas data into a dict of np arrays.\n",
    "    features = {key:np.array(value) for key,value in dict(features).items()}                                           \n",
    " \n",
    "    # Construct a dataset, and configure batching/repeating.\n",
    "    ds = Dataset.from_tensor_slices((features,targets)) # warning: 2GB limit\n",
    "    ds = ds.batch(batch_size).repeat(num_epochs)\n",
    "    \n",
    "    # Shuffle the data, if specified.\n",
    "    if shuffle:\n",
    "      ds = ds.shuffle(buffer_size=10000)\n",
    "      \n",
    "    # Return the next batch of data.\n",
    "    features, labels = ds.make_one_shot_iterator().get_next()\n",
    "    \n",
    "    return features, labels"
   ]
  },
  {
   "cell_type": "code",
   "execution_count": 7,
   "metadata": {},
   "outputs": [],
   "source": [
    "#Train the model from the existing data\n",
    "training = model.train(input_fn = lambda:my_input_fn(training_examples, training_targets),steps=1000)"
   ]
  },
  {
   "cell_type": "code",
   "execution_count": 8,
   "metadata": {},
   "outputs": [
    {
     "name": "stdout",
     "output_type": "stream",
     "text": [
      "Root Mean Squared Error (on training data): 58455.327\n",
      "Root Mean Squared Error (on validation data): 54798.275\n",
      "Root Mean Squared Error (on test data): 48661.598\n"
     ]
    }
   ],
   "source": [
    "# Evaluating the model with RMSE\n",
    "train_predictions = model.predict(input_fn=lambda: my_input_fn(training_examples, training_targets, num_epochs=1, shuffle=False))\n",
    "val_predictions = model.predict(input_fn=lambda: my_input_fn(val_examples, val_targets, num_epochs=1, shuffle=False))\n",
    "test_predictions = model.predict(input_fn=lambda: my_input_fn(test_examples, test_targets, num_epochs=1, shuffle=False))\n",
    "\n",
    "# Format predictions as a NumPy array, so we can calculate error metrics.\n",
    "train_predictions = np.array([item['predictions'][0] for item in train_predictions])\n",
    "val_predictions = np.array([item['predictions'][0] for item in val_predictions])\n",
    "test_predictions = np.array([item['predictions'][0] for item in test_predictions])\n",
    "\n",
    "# Print Mean Squared Error and Root Mean Squared Error.\n",
    "mean_squared_error = metrics.mean_squared_error(train_predictions, training_targets)\n",
    "root_mean_squared_error = math.sqrt(mean_squared_error)\n",
    "print(\"Root Mean Squared Error (on training data): %0.3f\" % root_mean_squared_error)\n",
    "mean_squared_error = metrics.mean_squared_error(val_predictions, val_targets)\n",
    "root_mean_squared_error = math.sqrt(mean_squared_error)\n",
    "print(\"Root Mean Squared Error (on validation data): %0.3f\" % root_mean_squared_error)\n",
    "mean_squared_error = metrics.mean_squared_error(test_predictions, test_targets)\n",
    "root_mean_squared_error = math.sqrt(mean_squared_error)\n",
    "print(\"Root Mean Squared Error (on test data): %0.3f\" % root_mean_squared_error)"
   ]
  },
  {
   "cell_type": "code",
   "execution_count": 9,
   "metadata": {},
   "outputs": [
    {
     "data": {
      "image/png": "[encoded data removed]",
      "text/plain": [
       "<Figure size 432x288 with 1 Axes>"
      ]
     },
     "metadata": {},
     "output_type": "display_data"
    }
   ],
   "source": [
    "# Evaluating the model with visuals\n",
    "train_sample = housing_df[0:1060].sample(30)\n",
    "val_sample = housing_df[1060:1260].sample(10)\n",
    "test_sample = housing_df[1260:1460].sample(10)\n",
    "\n",
    "# Get the min and GrLivArea values.\n",
    "x_0 = train_sample[\"GrLivArea\"].min()\n",
    "x_1 = train_sample[\"GrLivArea\"].max()\n",
    "\n",
    "# Retrieve the final weight and bias generated during training.\n",
    "weight = model.get_variable_value('linear/linear_model/GrLivArea/weights')[0]\n",
    "bias = model.get_variable_value('linear/linear_model/bias_weights')\n",
    "\n",
    "# Get the predicted SalePrice for the min and max GrLivArea values.\n",
    "y_0 = weight * x_0 + bias \n",
    "y_1 = weight * x_1 + bias\n",
    "\n",
    "# Plot our regression line from (x_0, y_0) to (x_1, y_1).\n",
    "plt.plot([x_0, x_1], [y_0, y_1], c='r')\n",
    "\n",
    "# Label the graph axes.\n",
    "plt.ylabel(\"SalePrice\")\n",
    "plt.xlabel(\"GrLivArea\")\n",
    "\n",
    "# Plot a scatter plot from our data sample.\n",
    "plt.scatter(train_sample[\"GrLivArea\"], train_sample[\"SalePrice\"])\n",
    "plt.scatter(val_sample[\"GrLivArea\"], val_sample[\"SalePrice\"])\n",
    "plt.scatter(test_sample[\"GrLivArea\"], test_sample[\"SalePrice\"])\n",
    "\n",
    "# Display graph.\n",
    "plt.show()"
   ]
  },
  {
   "cell_type": "code",
   "execution_count": null,
   "metadata": {},
   "outputs": [],
   "source": []
  },
  {
   "cell_type": "code",
   "execution_count": null,
   "metadata": {},
   "outputs": [],
   "source": []
  }
 ],
 "metadata": {
  "kernelspec": {
   "display_name": "Python 3",
   "language": "python",
   "name": "python3"
  },
  "language_info": {
   "codemirror_mode": {
    "name": "ipython",
    "version": 3
   },
   "file_extension": ".py",
   "mimetype": "text/x-python",
   "name": "python",
   "nbconvert_exporter": "python",
   "pygments_lexer": "ipython3",
   "version": "3.6.5"
  }
 },
 "nbformat": 4,
 "nbformat_minor": 2
}
